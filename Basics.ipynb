{
 "cells": [
  {
   "cell_type": "markdown",
   "metadata": {},
   "source": [
    "# Star Wars - Fan Survey\n",
    "This notebook represents my work on a guided project, as provided by Dataquest.io.\n",
    "\n",
    "\n",
    "While waiting for *Star Wars: The Force Awakens* to debut, the team at [FiveThirtyEight](https://fivethirtyeight.com) conducted a *Star Wars* fan survey.\n",
    "\n",
    "In particular, the team wondered: **does the rest of America realize that \"The Empire Strikes Back\" is clearly the best?** \n",
    "\n",
    "They received 835 responses in total, collected into this [GitHub repository](https://github.com/fivethirtyeight/data/tree/master/star-wars-survey).\n",
    "\n",
    "For this short project we will clean and encode the \"star_wars.csv\" dataset. We will then briefly explore the data at a high level.\n",
    "\n",
    "## Data Import & Initial Look"
   ]
  },
  {
   "cell_type": "code",
   "execution_count": 1,
   "metadata": {
    "collapsed": true
   },
   "outputs": [],
   "source": [
    "import pandas as pd\n",
    "import numpy as np\n",
    "import matplotlib.pyplot as plt\n",
    "import seaborn as sns\n",
    "import warnings\n",
    "warnings.simplefilter(action='ignore', category=FutureWarning)\n",
    "sns.set(style='darkgrid')\n",
    "%matplotlib inline\n",
    "star_wars = pd.read_csv(\"star_wars.csv\", encoding=\"ISO-8859-1\")"
   ]
  },
  {
   "cell_type": "code",
   "execution_count": 2,
   "metadata": {
    "collapsed": false
   },
   "outputs": [
    {
     "data": {
      "text/html": [
       "<div>\n",
       "<style scoped>\n",
       "    .dataframe tbody tr th:only-of-type {\n",
       "        vertical-align: middle;\n",
       "    }\n",
       "\n",
       "    .dataframe tbody tr th {\n",
       "        vertical-align: top;\n",
       "    }\n",
       "\n",
       "    .dataframe thead th {\n",
       "        text-align: right;\n",
       "    }\n",
       "</style>\n",
       "<table border=\"1\" class=\"dataframe\">\n",
       "  <thead>\n",
       "    <tr style=\"text-align: right;\">\n",
       "      <th></th>\n",
       "      <th>RespondentID</th>\n",
       "      <th>Have you seen any of the 6 films in the Star Wars franchise?</th>\n",
       "      <th>Do you consider yourself to be a fan of the Star Wars film franchise?</th>\n",
       "      <th>Which of the following Star Wars films have you seen? Please select all that apply.</th>\n",
       "      <th>Unnamed: 4</th>\n",
       "      <th>Unnamed: 5</th>\n",
       "      <th>Unnamed: 6</th>\n",
       "      <th>Unnamed: 7</th>\n",
       "      <th>Unnamed: 8</th>\n",
       "      <th>Please rank the Star Wars films in order of preference with 1 being your favorite film in the franchise and 6 being your least favorite film.</th>\n",
       "      <th>...</th>\n",
       "      <th>Unnamed: 28</th>\n",
       "      <th>Which character shot first?</th>\n",
       "      <th>Are you familiar with the Expanded Universe?</th>\n",
       "      <th>Do you consider yourself to be a fan of the Expanded Universe?ÂÃ¦</th>\n",
       "      <th>Do you consider yourself to be a fan of the Star Trek franchise?</th>\n",
       "      <th>Gender</th>\n",
       "      <th>Age</th>\n",
       "      <th>Household Income</th>\n",
       "      <th>Education</th>\n",
       "      <th>Location (Census Region)</th>\n",
       "    </tr>\n",
       "  </thead>\n",
       "  <tbody>\n",
       "    <tr>\n",
       "      <th>0</th>\n",
       "      <td>NaN</td>\n",
       "      <td>Response</td>\n",
       "      <td>Response</td>\n",
       "      <td>Star Wars: Episode I  The Phantom Menace</td>\n",
       "      <td>Star Wars: Episode II  Attack of the Clones</td>\n",
       "      <td>Star Wars: Episode III  Revenge of the Sith</td>\n",
       "      <td>Star Wars: Episode IV  A New Hope</td>\n",
       "      <td>Star Wars: Episode V The Empire Strikes Back</td>\n",
       "      <td>Star Wars: Episode VI Return of the Jedi</td>\n",
       "      <td>Star Wars: Episode I  The Phantom Menace</td>\n",
       "      <td>...</td>\n",
       "      <td>Yoda</td>\n",
       "      <td>Response</td>\n",
       "      <td>Response</td>\n",
       "      <td>Response</td>\n",
       "      <td>Response</td>\n",
       "      <td>Response</td>\n",
       "      <td>Response</td>\n",
       "      <td>Response</td>\n",
       "      <td>Response</td>\n",
       "      <td>Response</td>\n",
       "    </tr>\n",
       "    <tr>\n",
       "      <th>1</th>\n",
       "      <td>3.292880e+09</td>\n",
       "      <td>Yes</td>\n",
       "      <td>Yes</td>\n",
       "      <td>Star Wars: Episode I  The Phantom Menace</td>\n",
       "      <td>Star Wars: Episode II  Attack of the Clones</td>\n",
       "      <td>Star Wars: Episode III  Revenge of the Sith</td>\n",
       "      <td>Star Wars: Episode IV  A New Hope</td>\n",
       "      <td>Star Wars: Episode V The Empire Strikes Back</td>\n",
       "      <td>Star Wars: Episode VI Return of the Jedi</td>\n",
       "      <td>3</td>\n",
       "      <td>...</td>\n",
       "      <td>Very favorably</td>\n",
       "      <td>I don't understand this question</td>\n",
       "      <td>Yes</td>\n",
       "      <td>No</td>\n",
       "      <td>No</td>\n",
       "      <td>Male</td>\n",
       "      <td>18-29</td>\n",
       "      <td>NaN</td>\n",
       "      <td>High school degree</td>\n",
       "      <td>South Atlantic</td>\n",
       "    </tr>\n",
       "  </tbody>\n",
       "</table>\n",
       "<p>2 rows × 38 columns</p>\n",
       "</div>"
      ],
      "text/plain": [
       "   RespondentID Have you seen any of the 6 films in the Star Wars franchise?  \\\n",
       "0           NaN                                           Response             \n",
       "1  3.292880e+09                                                Yes             \n",
       "\n",
       "  Do you consider yourself to be a fan of the Star Wars film franchise?  \\\n",
       "0                                           Response                      \n",
       "1                                                Yes                      \n",
       "\n",
       "  Which of the following Star Wars films have you seen? Please select all that apply.  \\\n",
       "0           Star Wars: Episode I  The Phantom Menace                                    \n",
       "1           Star Wars: Episode I  The Phantom Menace                                    \n",
       "\n",
       "                                    Unnamed: 4  \\\n",
       "0  Star Wars: Episode II  Attack of the Clones   \n",
       "1  Star Wars: Episode II  Attack of the Clones   \n",
       "\n",
       "                                    Unnamed: 5  \\\n",
       "0  Star Wars: Episode III  Revenge of the Sith   \n",
       "1  Star Wars: Episode III  Revenge of the Sith   \n",
       "\n",
       "                          Unnamed: 6  \\\n",
       "0  Star Wars: Episode IV  A New Hope   \n",
       "1  Star Wars: Episode IV  A New Hope   \n",
       "\n",
       "                                     Unnamed: 7  \\\n",
       "0  Star Wars: Episode V The Empire Strikes Back   \n",
       "1  Star Wars: Episode V The Empire Strikes Back   \n",
       "\n",
       "                                 Unnamed: 8  \\\n",
       "0  Star Wars: Episode VI Return of the Jedi   \n",
       "1  Star Wars: Episode VI Return of the Jedi   \n",
       "\n",
       "  Please rank the Star Wars films in order of preference with 1 being your favorite film in the franchise and 6 being your least favorite film.  \\\n",
       "0           Star Wars: Episode I  The Phantom Menace                                                                                              \n",
       "1                                                  3                                                                                              \n",
       "\n",
       "            ...                Unnamed: 28       Which character shot first?  \\\n",
       "0           ...                       Yoda                          Response   \n",
       "1           ...             Very favorably  I don't understand this question   \n",
       "\n",
       "  Are you familiar with the Expanded Universe?  \\\n",
       "0                                     Response   \n",
       "1                                          Yes   \n",
       "\n",
       "  Do you consider yourself to be a fan of the Expanded Universe?ÂÃ¦  \\\n",
       "0                                           Response                   \n",
       "1                                                 No                   \n",
       "\n",
       "  Do you consider yourself to be a fan of the Star Trek franchise?    Gender  \\\n",
       "0                                           Response                Response   \n",
       "1                                                 No                    Male   \n",
       "\n",
       "        Age Household Income           Education Location (Census Region)  \n",
       "0  Response         Response            Response                 Response  \n",
       "1     18-29              NaN  High school degree           South Atlantic  \n",
       "\n",
       "[2 rows x 38 columns]"
      ]
     },
     "execution_count": 2,
     "metadata": {},
     "output_type": "execute_result"
    }
   ],
   "source": [
    "star_wars.head(2)"
   ]
  },
  {
   "cell_type": "code",
   "execution_count": 3,
   "metadata": {
    "collapsed": false
   },
   "outputs": [
    {
     "data": {
      "text/plain": [
       "Index(['RespondentID',\n",
       "       'Have you seen any of the 6 films in the Star Wars franchise?',\n",
       "       'Do you consider yourself to be a fan of the Star Wars film franchise?',\n",
       "       'Which of the following Star Wars films have you seen? Please select all that apply.',\n",
       "       'Unnamed: 4', 'Unnamed: 5', 'Unnamed: 6', 'Unnamed: 7', 'Unnamed: 8',\n",
       "       'Please rank the Star Wars films in order of preference with 1 being your favorite film in the franchise and 6 being your least favorite film.',\n",
       "       'Unnamed: 10', 'Unnamed: 11', 'Unnamed: 12', 'Unnamed: 13',\n",
       "       'Unnamed: 14',\n",
       "       'Please state whether you view the following characters favorably, unfavorably, or are unfamiliar with him/her.',\n",
       "       'Unnamed: 16', 'Unnamed: 17', 'Unnamed: 18', 'Unnamed: 19',\n",
       "       'Unnamed: 20', 'Unnamed: 21', 'Unnamed: 22', 'Unnamed: 23',\n",
       "       'Unnamed: 24', 'Unnamed: 25', 'Unnamed: 26', 'Unnamed: 27',\n",
       "       'Unnamed: 28', 'Which character shot first?',\n",
       "       'Are you familiar with the Expanded Universe?',\n",
       "       'Do you consider yourself to be a fan of the Expanded Universe?ÂÃ¦',\n",
       "       'Do you consider yourself to be a fan of the Star Trek franchise?',\n",
       "       'Gender', 'Age', 'Household Income', 'Education',\n",
       "       'Location (Census Region)'],\n",
       "      dtype='object')"
      ]
     },
     "execution_count": 3,
     "metadata": {},
     "output_type": "execute_result"
    }
   ],
   "source": [
    "star_wars.columns"
   ]
  },
  {
   "cell_type": "markdown",
   "metadata": {},
   "source": [
    "The data divides into two main categories. The first set of columns center around the demographics of the respondents and provide context for the subsequent survey questions. \n",
    "\n",
    "Potential key columns in terms of this analysis include:\n",
    "* RespondentID - An anonymized ID for each respondent\n",
    "* Gender\n",
    "* Age\n",
    "* Household Income\n",
    "* Education\n",
    "* Location (Census region)\n",
    "* Have you seen any of the 6 films in the Star Wars franchise?\n",
    "* Do you consider yourself to be a fan of the Star Wars film franchise?\n",
    "\n",
    "Formatting is currently inconsistent. For certain questions, the respondent originally had to check one or more boxes to indicate their answers. This type of data is difficult to represent in columnar format. As a result, the data set needs substantial cleaning to prep it for analysis."
   ]
  },
  {
   "cell_type": "markdown",
   "metadata": {},
   "source": [
    "## Data Cleaning\n",
    "### Removal of invalid rows\n",
    "First, we will remove any obviously invalid rows. RespondentID is blank in some rows, when each row of data should be firmly attached to a valid RespondentID.\n",
    "As such we will remove any row where the RespondentID is NaN."
   ]
  },
  {
   "cell_type": "code",
   "execution_count": 4,
   "metadata": {
    "collapsed": false
   },
   "outputs": [
    {
     "data": {
      "text/plain": [
       "0"
      ]
     },
     "execution_count": 4,
     "metadata": {},
     "output_type": "execute_result"
    }
   ],
   "source": [
    "# Removal of all rows in which RespondentID is blank\n",
    "# Followed by a quick check to ensure that the operation was successful\n",
    "star_wars = star_wars[star_wars['RespondentID'].notnull()]\n",
    "star_wars['RespondentID'].isnull().sum()"
   ]
  },
  {
   "cell_type": "markdown",
   "metadata": {},
   "source": [
    "We will now convert values in the below two columns (shown in **bold** text) from 'Yes' / No' to 'True / False'. This will make it easier for us to select rows without performing a string comparison.\n",
    "\n",
    "We will not adjust NaN values, which represent the case when a respondent had chosen not to answer a question. This choice could have been intentional or unintentional.\n",
    "\n",
    "** Column 1: Have you seen any of the 6 films in the Star Wars franchise? **"
   ]
  },
  {
   "cell_type": "code",
   "execution_count": 5,
   "metadata": {
    "collapsed": false
   },
   "outputs": [
    {
     "data": {
      "text/plain": [
       "Yes    936\n",
       "No     250\n",
       "Name: Have you seen any of the 6 films in the Star Wars franchise?, dtype: int64"
      ]
     },
     "execution_count": 5,
     "metadata": {},
     "output_type": "execute_result"
    }
   ],
   "source": [
    "star_wars['Have you seen any of the 6 films in the Star Wars franchise?'].value_counts(dropna=False)"
   ]
  },
  {
   "cell_type": "code",
   "execution_count": 6,
   "metadata": {
    "collapsed": false
   },
   "outputs": [],
   "source": [
    "# Conversion of 'Yes / No' values to 'True / False'\n",
    "star_wars['Have you seen any of the 6 films in the Star Wars franchise?'] = (\n",
    "    star_wars['Have you seen any of the 6 films in the Star Wars franchise?'].\n",
    "        map({'Yes': True, 'No': False}))"
   ]
  },
  {
   "cell_type": "code",
   "execution_count": 7,
   "metadata": {
    "collapsed": false
   },
   "outputs": [
    {
     "data": {
      "text/plain": [
       "True     936\n",
       "False    250\n",
       "Name: Have you seen any of the 6 films in the Star Wars franchise?, dtype: int64"
      ]
     },
     "execution_count": 7,
     "metadata": {},
     "output_type": "execute_result"
    }
   ],
   "source": [
    "# A quick check on the converted values to ensure we have no 'Yes' 'No' values left.\n",
    "star_wars['Have you seen any of the 6 films in the Star Wars franchise?'].value_counts(dropna=False)"
   ]
  },
  {
   "cell_type": "markdown",
   "metadata": {},
   "source": [
    "** Column 2: Do you consider yourself to be a fan of the Star Wars film franchise? **"
   ]
  },
  {
   "cell_type": "code",
   "execution_count": 8,
   "metadata": {
    "collapsed": false
   },
   "outputs": [
    {
     "data": {
      "text/plain": [
       "Yes    552\n",
       "NaN    350\n",
       "No     284\n",
       "Name: Do you consider yourself to be a fan of the Star Wars film franchise?, dtype: int64"
      ]
     },
     "execution_count": 8,
     "metadata": {},
     "output_type": "execute_result"
    }
   ],
   "source": [
    "star_wars['Do you consider yourself to be a fan of the Star Wars film franchise?'].value_counts(dropna=False)"
   ]
  },
  {
   "cell_type": "code",
   "execution_count": 9,
   "metadata": {
    "collapsed": true
   },
   "outputs": [],
   "source": [
    "# Conversion of 'Yes / No' values to 'True / False'\n",
    "star_wars['Do you consider yourself to be a fan of the Star Wars film franchise?'] = (\n",
    "    star_wars['Do you consider yourself to be a fan of the Star Wars film franchise?'].\n",
    "        map({'Yes': True, 'No': False}))"
   ]
  },
  {
   "cell_type": "code",
   "execution_count": 10,
   "metadata": {
    "collapsed": false
   },
   "outputs": [
    {
     "data": {
      "text/plain": [
       "True     552\n",
       "NaN      350\n",
       "False    284\n",
       "Name: Do you consider yourself to be a fan of the Star Wars film franchise?, dtype: int64"
      ]
     },
     "execution_count": 10,
     "metadata": {},
     "output_type": "execute_result"
    }
   ],
   "source": [
    "# A quick check on the converted values to ensure we have no 'Yes' 'No' values left.\n",
    "star_wars['Do you consider yourself to be a fan of the Star Wars film franchise?'].value_counts(dropna=False)"
   ]
  },
  {
   "cell_type": "markdown",
   "metadata": {},
   "source": [
    "### Simplify a series of 'boolean' columns\n",
    "\n",
    "From the initial data six columns as a whole represent a single checkbox question.\n",
    "> Which of the following Star Wars films have you seen? \n",
    "> Please select all that apply.\n",
    "\n",
    "The original columns for this question are:\n",
    "* Which of the following Star Wars films have you seen? Please select all that apply - Whether or not the respondent saw *Star Wars: Episode I The Phantom Menace*.\n",
    "* Unnamed: 4 - Whether or not the respondent saw *Star Wars: Episode II Attack of the Clones*.\n",
    "* Unnamed: 5 - Whether or not the respondent saw *Star Wars: Episode III Revenge of the Sith*.\n",
    "* Unnamed: 6 - Whether or not the respondent saw *Star Wars: Episode IV A New Hope*.\n",
    "* Unnamed: 7 - Whether or not the respondent saw *Star Wars: Episode V The Empire Strikes Back*.\n",
    "* Unnamed: 8 - Whether or not the respondent saw *Star Wars: Episode VI Return of the Jedi*.\n",
    "\n",
    "The current values for each column consist of either the particular movie name or **NaN**, which means either the respondent did not answer or did not see the movie. We will assume that they did not see the movie.\n",
    "\n",
    "For each column we will convert the answers to the boolean values of True and False.\n",
    "\n",
    "But first, we will rename column names to something shorter and easier to work with.  'Star Wars: Episode I The Phantom Menace' will simply be 'seen_1', 'Unnamed: 4' will be 'seen_2' and so forth."
   ]
  },
  {
   "cell_type": "code",
   "execution_count": 11,
   "metadata": {
    "collapsed": false
   },
   "outputs": [
    {
     "data": {
      "text/plain": [
       "Index(['RespondentID',\n",
       "       'Have you seen any of the 6 films in the Star Wars franchise?',\n",
       "       'Do you consider yourself to be a fan of the Star Wars film franchise?',\n",
       "       'seen_1', 'seen_2', 'seen_3', 'seen_4', 'seen_5', 'seen_6',\n",
       "       'Please rank the Star Wars films in order of preference with 1 being your favorite film in the franchise and 6 being your least favorite film.',\n",
       "       'Unnamed: 10', 'Unnamed: 11', 'Unnamed: 12', 'Unnamed: 13',\n",
       "       'Unnamed: 14',\n",
       "       'Please state whether you view the following characters favorably, unfavorably, or are unfamiliar with him/her.',\n",
       "       'Unnamed: 16', 'Unnamed: 17', 'Unnamed: 18', 'Unnamed: 19',\n",
       "       'Unnamed: 20', 'Unnamed: 21', 'Unnamed: 22', 'Unnamed: 23',\n",
       "       'Unnamed: 24', 'Unnamed: 25', 'Unnamed: 26', 'Unnamed: 27',\n",
       "       'Unnamed: 28', 'Which character shot first?',\n",
       "       'Are you familiar with the Expanded Universe?',\n",
       "       'Do you consider yourself to be a fan of the Expanded Universe?ÂÃ¦',\n",
       "       'Do you consider yourself to be a fan of the Star Trek franchise?',\n",
       "       'Gender', 'Age', 'Household Income', 'Education',\n",
       "       'Location (Census Region)'],\n",
       "      dtype='object')"
      ]
     },
     "execution_count": 11,
     "metadata": {},
     "output_type": "execute_result"
    }
   ],
   "source": [
    "# Conversion of the above-stated column names to a shorter alternative\n",
    "star_wars.rename({'Which of the following Star Wars films have you seen? Please select all that apply.': 'seen_1',\n",
    "                  'Unnamed: 4': 'seen_2', 'Unnamed: 5': 'seen_3', 'Unnamed: 6': 'seen_4',\n",
    "                  'Unnamed: 7': 'seen_5', 'Unnamed: 8': 'seen_6'},\n",
    "                 axis=1, inplace=True)\n",
    "star_wars.columns\n",
    "# Note columns 4 to 9 now have the 'seen_' prefix."
   ]
  },
  {
   "cell_type": "code",
   "execution_count": 12,
   "metadata": {
    "collapsed": false
   },
   "outputs": [
    {
     "data": {
      "text/plain": [
       "seen_1        Star Wars: Episode I  The Phantom Menace\n",
       "seen_2     Star Wars: Episode II  Attack of the Clones\n",
       "seen_3     Star Wars: Episode III  Revenge of the Sith\n",
       "seen_4               Star Wars: Episode IV  A New Hope\n",
       "seen_5    Star Wars: Episode V The Empire Strikes Back\n",
       "seen_6        Star Wars: Episode VI Return of the Jedi\n",
       "Name: 1, dtype: object"
      ]
     },
     "execution_count": 12,
     "metadata": {},
     "output_type": "execute_result"
    }
   ],
   "source": [
    "# Pull the first row of renamed columns to ensure that the column names are now correct\n",
    "movies = star_wars.loc[1, 'seen_1': 'seen_6'].values\n",
    "star_wars.loc[1, 'seen_1': 'seen_6']"
   ]
  },
  {
   "cell_type": "markdown",
   "metadata": {},
   "source": [
    "Now that the column names have been standardized, we will work on adjusting the column values to **True** and **False** values."
   ]
  },
  {
   "cell_type": "markdown",
   "metadata": {},
   "source": [
    "**seen_1** column"
   ]
  },
  {
   "cell_type": "code",
   "execution_count": 13,
   "metadata": {
    "collapsed": false
   },
   "outputs": [
    {
     "data": {
      "text/plain": [
       "Star Wars: Episode I  The Phantom Menace    673\n",
       "NaN                                         513\n",
       "Name: seen_1, dtype: int64"
      ]
     },
     "execution_count": 13,
     "metadata": {},
     "output_type": "execute_result"
    }
   ],
   "source": [
    "# Quick check on the current values\n",
    "star_wars.seen_1.value_counts(dropna=False)"
   ]
  },
  {
   "cell_type": "code",
   "execution_count": 14,
   "metadata": {
    "collapsed": false
   },
   "outputs": [],
   "source": [
    "# Map the current values to True and False\n",
    "star_wars.seen_1 = star_wars.seen_1.map({'Star Wars: Episode I  The Phantom Menace': True, np.nan: False})"
   ]
  },
  {
   "cell_type": "code",
   "execution_count": 15,
   "metadata": {
    "collapsed": false
   },
   "outputs": [
    {
     "data": {
      "text/plain": [
       "True     673\n",
       "False    513\n",
       "Name: seen_1, dtype: int64"
      ]
     },
     "execution_count": 15,
     "metadata": {},
     "output_type": "execute_result"
    }
   ],
   "source": [
    "# Check that the converted values are limited to True and False\n",
    "star_wars.seen_1.value_counts(dropna=False)"
   ]
  },
  {
   "cell_type": "markdown",
   "metadata": {},
   "source": [
    "**seen_2** column"
   ]
  },
  {
   "cell_type": "code",
   "execution_count": 16,
   "metadata": {
    "collapsed": false
   },
   "outputs": [
    {
     "data": {
      "text/plain": [
       "NaN                                            615\n",
       "Star Wars: Episode II  Attack of the Clones    571\n",
       "Name: seen_2, dtype: int64"
      ]
     },
     "execution_count": 16,
     "metadata": {},
     "output_type": "execute_result"
    }
   ],
   "source": [
    "# Quick check on current values\n",
    "star_wars.seen_2.value_counts(dropna=False)"
   ]
  },
  {
   "cell_type": "code",
   "execution_count": 17,
   "metadata": {
    "collapsed": true
   },
   "outputs": [],
   "source": [
    "# Map the current values to True and False\n",
    "star_wars.seen_2 = star_wars.seen_2.map({'Star Wars: Episode II  Attack of the Clones': True, np.nan: False})"
   ]
  },
  {
   "cell_type": "code",
   "execution_count": 18,
   "metadata": {
    "collapsed": false
   },
   "outputs": [
    {
     "data": {
      "text/plain": [
       "False    615\n",
       "True     571\n",
       "Name: seen_2, dtype: int64"
      ]
     },
     "execution_count": 18,
     "metadata": {},
     "output_type": "execute_result"
    }
   ],
   "source": [
    "# Check that the converted values are limited to True and False\n",
    "star_wars.seen_2.value_counts(dropna=False)"
   ]
  },
  {
   "cell_type": "markdown",
   "metadata": {},
   "source": [
    "**seen_3** column"
   ]
  },
  {
   "cell_type": "code",
   "execution_count": 19,
   "metadata": {
    "collapsed": false
   },
   "outputs": [
    {
     "data": {
      "text/plain": [
       "NaN                                            636\n",
       "Star Wars: Episode III  Revenge of the Sith    550\n",
       "Name: seen_3, dtype: int64"
      ]
     },
     "execution_count": 19,
     "metadata": {},
     "output_type": "execute_result"
    }
   ],
   "source": [
    "# Quick check on current values\n",
    "star_wars.seen_3.value_counts(dropna=False)"
   ]
  },
  {
   "cell_type": "code",
   "execution_count": 20,
   "metadata": {
    "collapsed": true
   },
   "outputs": [],
   "source": [
    "# Map the current values to True and False\n",
    "star_wars.seen_3 = star_wars.seen_3.map({'Star Wars: Episode III  Revenge of the Sith': True, np.nan: False})"
   ]
  },
  {
   "cell_type": "code",
   "execution_count": 21,
   "metadata": {
    "collapsed": false
   },
   "outputs": [
    {
     "data": {
      "text/plain": [
       "False    636\n",
       "True     550\n",
       "Name: seen_3, dtype: int64"
      ]
     },
     "execution_count": 21,
     "metadata": {},
     "output_type": "execute_result"
    }
   ],
   "source": [
    "# Check that the converted values are limited to True and False\n",
    "star_wars.seen_3.value_counts(dropna=False)"
   ]
  },
  {
   "cell_type": "markdown",
   "metadata": {},
   "source": [
    "**seen_4** column"
   ]
  },
  {
   "cell_type": "code",
   "execution_count": 22,
   "metadata": {
    "collapsed": false
   },
   "outputs": [
    {
     "data": {
      "text/plain": [
       "Star Wars: Episode IV  A New Hope    607\n",
       "NaN                                  579\n",
       "Name: seen_4, dtype: int64"
      ]
     },
     "execution_count": 22,
     "metadata": {},
     "output_type": "execute_result"
    }
   ],
   "source": [
    "# Quick check on current values\n",
    "star_wars.seen_4.value_counts(dropna=False)"
   ]
  },
  {
   "cell_type": "code",
   "execution_count": 23,
   "metadata": {
    "collapsed": true
   },
   "outputs": [],
   "source": [
    "# Map the current values to True and False\n",
    "star_wars.seen_4 = star_wars.seen_4.map({'Star Wars: Episode IV  A New Hope': True, np.nan: False})"
   ]
  },
  {
   "cell_type": "code",
   "execution_count": 24,
   "metadata": {
    "collapsed": false
   },
   "outputs": [
    {
     "data": {
      "text/plain": [
       "True     607\n",
       "False    579\n",
       "Name: seen_4, dtype: int64"
      ]
     },
     "execution_count": 24,
     "metadata": {},
     "output_type": "execute_result"
    }
   ],
   "source": [
    "# Check that the converted values are limited to True and False\n",
    "star_wars.seen_4.value_counts(dropna=False)"
   ]
  },
  {
   "cell_type": "markdown",
   "metadata": {},
   "source": [
    "**seen_5** column"
   ]
  },
  {
   "cell_type": "code",
   "execution_count": 25,
   "metadata": {
    "collapsed": false
   },
   "outputs": [
    {
     "data": {
      "text/plain": [
       "Star Wars: Episode V The Empire Strikes Back    758\n",
       "NaN                                             428\n",
       "Name: seen_5, dtype: int64"
      ]
     },
     "execution_count": 25,
     "metadata": {},
     "output_type": "execute_result"
    }
   ],
   "source": [
    "# Quick check on current values\n",
    "star_wars.seen_5.value_counts(dropna=False)"
   ]
  },
  {
   "cell_type": "code",
   "execution_count": 26,
   "metadata": {
    "collapsed": true
   },
   "outputs": [],
   "source": [
    "# Map the current values to True and False\n",
    "star_wars.seen_5 = star_wars.seen_5.map({'Star Wars: Episode V The Empire Strikes Back': True, np.nan: False})"
   ]
  },
  {
   "cell_type": "code",
   "execution_count": 27,
   "metadata": {
    "collapsed": false
   },
   "outputs": [
    {
     "data": {
      "text/plain": [
       "True     758\n",
       "False    428\n",
       "Name: seen_5, dtype: int64"
      ]
     },
     "execution_count": 27,
     "metadata": {},
     "output_type": "execute_result"
    }
   ],
   "source": [
    "# Check that the converted values are limited to True and False\n",
    "star_wars.seen_5.value_counts(dropna=False)"
   ]
  },
  {
   "cell_type": "markdown",
   "metadata": {},
   "source": [
    "**seen_6** column"
   ]
  },
  {
   "cell_type": "code",
   "execution_count": 28,
   "metadata": {
    "collapsed": false
   },
   "outputs": [
    {
     "data": {
      "text/plain": [
       "Star Wars: Episode VI Return of the Jedi    738\n",
       "NaN                                         448\n",
       "Name: seen_6, dtype: int64"
      ]
     },
     "execution_count": 28,
     "metadata": {},
     "output_type": "execute_result"
    }
   ],
   "source": [
    "# Quick check on current values\n",
    "star_wars.seen_6.value_counts(dropna=False)"
   ]
  },
  {
   "cell_type": "code",
   "execution_count": 29,
   "metadata": {
    "collapsed": true
   },
   "outputs": [],
   "source": [
    "# Map the current values to True and False\n",
    "star_wars.seen_6 = star_wars.seen_6.map({'Star Wars: Episode VI Return of the Jedi': True, np.nan: False})"
   ]
  },
  {
   "cell_type": "code",
   "execution_count": 30,
   "metadata": {
    "collapsed": false
   },
   "outputs": [
    {
     "data": {
      "text/plain": [
       "True     738\n",
       "False    448\n",
       "Name: seen_6, dtype: int64"
      ]
     },
     "execution_count": 30,
     "metadata": {},
     "output_type": "execute_result"
    }
   ],
   "source": [
    "# Check that the converted values are limited to True and False\n",
    "star_wars.seen_6.value_counts(dropna=False)"
   ]
  },
  {
   "cell_type": "code",
   "execution_count": 31,
   "metadata": {
    "collapsed": false
   },
   "outputs": [
    {
     "data": {
      "text/plain": [
       "seen_1    True\n",
       "seen_2    True\n",
       "seen_3    True\n",
       "seen_4    True\n",
       "seen_5    True\n",
       "seen_6    True\n",
       "Name: 1, dtype: object"
      ]
     },
     "execution_count": 31,
     "metadata": {},
     "output_type": "execute_result"
    }
   ],
   "source": [
    "# Pull first row of the 6 renamed columns to ensure that the new values are correct\n",
    "star_wars.loc[1, 'seen_1': 'seen_6']"
   ]
  },
  {
   "cell_type": "markdown",
   "metadata": {},
   "source": [
    "### Clean up the 'rank the Star Wars movie' columns\n",
    "\n",
    "The next six columns ask the respondent to rank the Star Wars movies in order of least favorite (6) to most favorite (1). Each of the columns can contain the value: 1, 2, 3, 4, 5, 6, or NaN.\n",
    "\n",
    "The columns are:\n",
    "* Please rank the Star Wars films in order of preference with 1 being your favorite film in the franchise and 6 being your least favorite film. - How much the respondent liked *Star Wars: Episode I The Phantom Menace*.\n",
    "* Unnamed: 10 - How much the respondent liked *Star Wars: Episode II Attack of the Clones*.\n",
    "* Unnamed: 11 - How much the respondent liked *Star Wars: Episode III Revenge of the Sith*.\n",
    "* Unnamed: 12 - How much the respondent liked *Star Wars: Episode IV A New Hope*.\n",
    "* Unnamed: 13 - How much the respondent liked *Star Wars: Episode V The Empire Strikes Back*.\n",
    "* Unnamed: 14 - How much the respondent liked *Star Wars: Episode VI Return of the Jedi*.\n",
    "\n",
    "We will first convert each column to a numeric data type.  We will then rename each column to a more descriptive name, such as 'ranking_1'."
   ]
  },
  {
   "cell_type": "code",
   "execution_count": 32,
   "metadata": {
    "collapsed": false
   },
   "outputs": [
    {
     "data": {
      "text/html": [
       "<div>\n",
       "<style scoped>\n",
       "    .dataframe tbody tr th:only-of-type {\n",
       "        vertical-align: middle;\n",
       "    }\n",
       "\n",
       "    .dataframe tbody tr th {\n",
       "        vertical-align: top;\n",
       "    }\n",
       "\n",
       "    .dataframe thead th {\n",
       "        text-align: right;\n",
       "    }\n",
       "</style>\n",
       "<table border=\"1\" class=\"dataframe\">\n",
       "  <thead>\n",
       "    <tr style=\"text-align: right;\">\n",
       "      <th></th>\n",
       "      <th>Please rank the Star Wars films in order of preference with 1 being your favorite film in the franchise and 6 being your least favorite film.</th>\n",
       "      <th>Unnamed: 10</th>\n",
       "      <th>Unnamed: 11</th>\n",
       "      <th>Unnamed: 12</th>\n",
       "      <th>Unnamed: 13</th>\n",
       "      <th>Unnamed: 14</th>\n",
       "    </tr>\n",
       "  </thead>\n",
       "  <tbody>\n",
       "    <tr>\n",
       "      <th>1</th>\n",
       "      <td>3</td>\n",
       "      <td>2</td>\n",
       "      <td>1</td>\n",
       "      <td>4</td>\n",
       "      <td>5</td>\n",
       "      <td>6</td>\n",
       "    </tr>\n",
       "    <tr>\n",
       "      <th>2</th>\n",
       "      <td>NaN</td>\n",
       "      <td>NaN</td>\n",
       "      <td>NaN</td>\n",
       "      <td>NaN</td>\n",
       "      <td>NaN</td>\n",
       "      <td>NaN</td>\n",
       "    </tr>\n",
       "  </tbody>\n",
       "</table>\n",
       "</div>"
      ],
      "text/plain": [
       "  Please rank the Star Wars films in order of preference with 1 being your favorite film in the franchise and 6 being your least favorite film.  \\\n",
       "1                                                  3                                                                                              \n",
       "2                                                NaN                                                                                              \n",
       "\n",
       "  Unnamed: 10 Unnamed: 11 Unnamed: 12 Unnamed: 13 Unnamed: 14  \n",
       "1           2           1           4           5           6  \n",
       "2         NaN         NaN         NaN         NaN         NaN  "
      ]
     },
     "execution_count": 32,
     "metadata": {},
     "output_type": "execute_result"
    }
   ],
   "source": [
    "# Quick check of the current state of the columns.\n",
    "star_wars[star_wars.columns[9:15]][0:2]"
   ]
  },
  {
   "cell_type": "code",
   "execution_count": 33,
   "metadata": {
    "collapsed": false
   },
   "outputs": [
    {
     "name": "stdout",
     "output_type": "stream",
     "text": [
      "<class 'pandas.core.frame.DataFrame'>\n",
      "Int64Index: 1186 entries, 1 to 1186\n",
      "Data columns (total 6 columns):\n",
      "Please rank the Star Wars films in order of preference with 1 being your favorite film in the franchise and 6 being your least favorite film.    835 non-null float64\n",
      "Unnamed: 10                                                                                                                                      836 non-null float64\n",
      "Unnamed: 11                                                                                                                                      835 non-null float64\n",
      "Unnamed: 12                                                                                                                                      836 non-null float64\n",
      "Unnamed: 13                                                                                                                                      836 non-null float64\n",
      "Unnamed: 14                                                                                                                                      836 non-null float64\n",
      "dtypes: float64(6)\n",
      "memory usage: 104.9 KB\n"
     ]
    }
   ],
   "source": [
    "# Conversion of column type to float, along with a quick confirmation of such\n",
    "star_wars[star_wars.columns[9:15]] = star_wars[star_wars.columns[9:15]].astype(float)\n",
    "star_wars[star_wars.columns[9:15]].info()"
   ]
  },
  {
   "cell_type": "code",
   "execution_count": 34,
   "metadata": {
    "collapsed": false
   },
   "outputs": [],
   "source": [
    "# Rename of columns to ranking_1, ranking_2, and so forth.\n",
    "star_wars = star_wars.rename({'Please rank the Star Wars films in order of preference with 1 being your favorite film in the franchise and 6 being your least favorite film.': 'ranking_1',\n",
    "                             'Unnamed: 10': 'ranking_2', 'Unnamed: 11': 'ranking_3',\n",
    "                             'Unnamed: 12': 'ranking_4', 'Unnamed: 13': 'ranking_5',\n",
    "                             'Unnamed: 14': 'ranking_6'}, axis=1)"
   ]
  },
  {
   "cell_type": "code",
   "execution_count": 35,
   "metadata": {
    "collapsed": false
   },
   "outputs": [
    {
     "data": {
      "text/plain": [
       "Index(['ranking_1', 'ranking_2', 'ranking_3', 'ranking_4', 'ranking_5',\n",
       "       'ranking_6'],\n",
       "      dtype='object')"
      ]
     },
     "execution_count": 35,
     "metadata": {},
     "output_type": "execute_result"
    }
   ],
   "source": [
    "# A quick check of the converted column names\n",
    "star_wars[star_wars.columns[9:15]].columns"
   ]
  },
  {
   "cell_type": "markdown",
   "metadata": {},
   "source": [
    "## Data Exploration\n",
    "### Identify the highest ranked movie\n",
    "Now that we have cleaned up the ranking columns, we can find the highest-ranked movie more simply. To do this we will find the mean of each of the ranking columns.\n",
    "\n",
    "*Please remember that a lower ranking is better!*"
   ]
  },
  {
   "cell_type": "code",
   "execution_count": 36,
   "metadata": {
    "collapsed": false
   },
   "outputs": [
    {
     "data": {
      "text/plain": [
       "ranking_1    3.732934\n",
       "ranking_2    4.087321\n",
       "ranking_3    4.341317\n",
       "ranking_4    3.272727\n",
       "ranking_5    2.513158\n",
       "ranking_6    3.047847\n",
       "dtype: float64"
      ]
     },
     "execution_count": 36,
     "metadata": {},
     "output_type": "execute_result"
    }
   ],
   "source": [
    "mean_rank = star_wars[star_wars.columns[9:15]].mean()\n",
    "mean_rank"
   ]
  },
  {
   "cell_type": "code",
   "execution_count": 37,
   "metadata": {
    "collapsed": false
   },
   "outputs": [
    {
     "data": {
      "image/png": "[encoded data removed]",
      "text/plain": [
       "<matplotlib.figure.Figure at 0x7f6c7616ed68>"
      ]
     },
     "metadata": {},
     "output_type": "display_data"
    }
   ],
   "source": [
    "ax = sns.barplot(x=mean_rank.index, y=mean_rank.values)\n",
    "ax.set_title('Rating of Star Wars Movies')\n",
    "plt.xticks(rotation=45)\n",
    "plt.show()"
   ]
  },
  {
   "cell_type": "markdown",
   "metadata": {},
   "source": [
    "'ranking_5' has been identified as the clear fan favorite, with a mean ranking of 2.51.  That movie corresponds to: **Star Wars: Episode V The Empire Strikes Back** and happens to be the author's personal favorite, especially given its dramatic ending that leaves the audience hanging!\n",
    "\n",
    "It is interesting to compare the rankings to each movie's respective production budget and box office sales figures, found [here](https://www.the-numbers.com/movies/franchise/Star-Wars#tab=summary). We will leave that as a side-exercise for the reader."
   ]
  },
  {
   "cell_type": "markdown",
   "metadata": {},
   "source": [
    "### Identify the most watched movie\n",
    "Our columns - 'seen_1' to 'seen_6' contain boolean values. When we call methods such as sum(), the True values conveniently convert over to 1. Thus, from our survey results we can calculate how often a given movie was seen."
   ]
  },
  {
   "cell_type": "code",
   "execution_count": 38,
   "metadata": {
    "collapsed": false
   },
   "outputs": [
    {
     "data": {
      "text/plain": [
       "seen_1    673\n",
       "seen_2    571\n",
       "seen_3    550\n",
       "seen_4    607\n",
       "seen_5    758\n",
       "seen_6    738\n",
       "dtype: int64"
      ]
     },
     "execution_count": 38,
     "metadata": {},
     "output_type": "execute_result"
    }
   ],
   "source": [
    "movie_seen_count = star_wars[star_wars.columns[3:9]].sum()\n",
    "movie_seen_count"
   ]
  },
  {
   "cell_type": "code",
   "execution_count": 39,
   "metadata": {
    "collapsed": false
   },
   "outputs": [
    {
     "data": {
      "image/png": "[encoded data removed]",
      "text/plain": [
       "<matplotlib.figure.Figure at 0x7f6c7616eac8>"
      ]
     },
     "metadata": {},
     "output_type": "display_data"
    }
   ],
   "source": [
    "ax = sns.barplot(x=movie_seen_count.index, y=movie_seen_count.values)\n",
    "ax.set_title('How Many Times Each Movie was Viewed')\n",
    "plt.show()"
   ]
  },
  {
   "cell_type": "markdown",
   "metadata": {},
   "source": [
    "There may be a bias in the ratings in that 'seen_5' - Star Wars: Episode V The Empire Strikes Back - was also the most viewed movie. It is possible that these particular survey respondents began their Star Wars journey with 'The Empire Strikes Back' and thus hold a particular affection for the movie."
   ]
  },
  {
   "cell_type": "markdown",
   "metadata": {},
   "source": [
    "### Identify differences in survey segments\n",
    "We now know which movies the survey population as a whole ranked the highest. Now let us examine how certain segments of the survey population responded.\n",
    "\n",
    "There are several columns that segment our data into groups. Three examples are:\n",
    "* Do you consider yourself to be a fan of the Star Wars film franchise?\n",
    "* Do you consider yourself to be a fan of the Star Trek franchise? \n",
    "* Gender - Male or Female\n",
    "\n",
    "Gender may constitute the most interesting survey segment. We will redo the above analysis segmenting results by gender.\n",
    "\n",
    "For gender comparison purposes we will eventually switch from count of movies seen to percentage of a gender's respondents that saw a given movie."
   ]
  },
  {
   "cell_type": "code",
   "execution_count": 40,
   "metadata": {
    "collapsed": false
   },
   "outputs": [
    {
     "name": "stdout",
     "output_type": "stream",
     "text": [
      "The number of male respondents is: 497\n",
      "The number of female respondents is: 549\n",
      "\n",
      "Gender seems fairly evenly divided in number.\n",
      "There exists an adequate sample size in both segments.\n"
     ]
    }
   ],
   "source": [
    "star_wars_males = star_wars[star_wars['Gender'] == 'Male']\n",
    "star_wars_females = star_wars[star_wars['Gender'] == 'Female']\n",
    "\n",
    "print('The number of male respondents is:', len(star_wars_males))\n",
    "print('The number of female respondents is:', len(star_wars_females))\n",
    "\n",
    "print('\\nGender seems fairly evenly divided in number.')\n",
    "print('There exists an adequate sample size in both segments.')"
   ]
  },
  {
   "cell_type": "markdown",
   "metadata": {},
   "source": [
    "#### Male Segment"
   ]
  },
  {
   "cell_type": "code",
   "execution_count": 41,
   "metadata": {
    "collapsed": false
   },
   "outputs": [
    {
     "data": {
      "text/plain": [
       "ranking_1    4.037825\n",
       "ranking_2    4.224586\n",
       "ranking_3    4.274882\n",
       "ranking_4    2.997636\n",
       "ranking_5    2.458629\n",
       "ranking_6    3.002364\n",
       "dtype: float64"
      ]
     },
     "execution_count": 41,
     "metadata": {},
     "output_type": "execute_result"
    }
   ],
   "source": [
    "males_mean_rank = star_wars_males[star_wars_males.columns[9:15]].mean()\n",
    "males_mean_rank"
   ]
  },
  {
   "cell_type": "code",
   "execution_count": 42,
   "metadata": {
    "collapsed": false
   },
   "outputs": [
    {
     "data": {
      "image/png": "[encoded data removed]",
      "text/plain": [
       "<matplotlib.figure.Figure at 0x7f6c75ff8fd0>"
      ]
     },
     "metadata": {},
     "output_type": "display_data"
    }
   ],
   "source": [
    "ax = sns.barplot(x=males_mean_rank.index, y=males_mean_rank.values)\n",
    "ax.set_title('Males - Rating of Star Wars Movies')\n",
    "plt.show()"
   ]
  },
  {
   "cell_type": "markdown",
   "metadata": {},
   "source": [
    "With the male segment we see an even clearer preference for movies 4 through 6. The highest ranked film is still 'The Empire Strikes Back' (ranking_5) with a rating of 2.45."
   ]
  },
  {
   "cell_type": "code",
   "execution_count": 43,
   "metadata": {
    "collapsed": false
   },
   "outputs": [
    {
     "data": {
      "text/plain": [
       "seen_1    72.635815\n",
       "seen_2    64.989940\n",
       "seen_3    63.782696\n",
       "seen_4    68.812877\n",
       "seen_5    78.873239\n",
       "seen_6    77.867203\n",
       "dtype: float64"
      ]
     },
     "execution_count": 43,
     "metadata": {},
     "output_type": "execute_result"
    }
   ],
   "source": [
    "males_movie_seen_percent = (star_wars_males[star_wars_males.columns[3:9]].sum() / len(star_wars_males)) * 100\n",
    "males_movie_seen_percent"
   ]
  },
  {
   "cell_type": "code",
   "execution_count": 44,
   "metadata": {
    "collapsed": false
   },
   "outputs": [
    {
     "data": {
      "text/plain": [
       "<matplotlib.text.Text at 0x7f6c75f27828>"
      ]
     },
     "execution_count": 44,
     "metadata": {},
     "output_type": "execute_result"
    },
    {
     "data": {
      "image/png": "[encoded data removed]",
      "text/plain": [
       "<matplotlib.figure.Figure at 0x7f6c75f8fe10>"
      ]
     },
     "metadata": {},
     "output_type": "display_data"
    }
   ],
   "source": [
    "ax = sns.barplot(x=males_movie_seen_percent.index, y=males_movie_seen_percent.values)\n",
    "ax.set_title('Males - Movie Viewership')\n",
    "ax.set_ylabel('Percentage')"
   ]
  },
  {
   "cell_type": "markdown",
   "metadata": {},
   "source": [
    "Out of 497 male survey respondents, 397 (79%) had seen 'The Empire Strikes Back' (seen_5). Likewise, 387 (78%) had seen 'Return of the Jedi' (seen_6). Interesting to note that these two movies are also ranked the highest by the male survey respondents.\n",
    "\n",
    "Now we switch over to the female segment of the survey respondent population."
   ]
  },
  {
   "cell_type": "markdown",
   "metadata": {},
   "source": [
    "#### Female Segment"
   ]
  },
  {
   "cell_type": "code",
   "execution_count": 45,
   "metadata": {
    "collapsed": false
   },
   "outputs": [
    {
     "data": {
      "text/plain": [
       "ranking_1    3.429293\n",
       "ranking_2    3.954660\n",
       "ranking_3    4.418136\n",
       "ranking_4    3.544081\n",
       "ranking_5    2.569270\n",
       "ranking_6    3.078086\n",
       "dtype: float64"
      ]
     },
     "execution_count": 45,
     "metadata": {},
     "output_type": "execute_result"
    }
   ],
   "source": [
    "females_mean_rank = star_wars_females[star_wars_females.columns[9:15]].mean()\n",
    "females_mean_rank"
   ]
  },
  {
   "cell_type": "code",
   "execution_count": 46,
   "metadata": {
    "collapsed": false
   },
   "outputs": [
    {
     "data": {
      "image/png": "[encoded data removed]",
      "text/plain": [
       "<matplotlib.figure.Figure at 0x7f6c75f22160>"
      ]
     },
     "metadata": {},
     "output_type": "display_data"
    }
   ],
   "source": [
    "ax = sns.barplot(x=females_mean_rank.index, y=females_mean_rank.values)\n",
    "ax.set_title('Females - Rating of Star Wars Movies')\n",
    "plt.show()"
   ]
  },
  {
   "cell_type": "markdown",
   "metadata": {},
   "source": [
    "In comparison to the male survey respondents, the female survey respondents seem less fond of 'ranking_4' - the original Star Wars film. Men rated that movie at 2.99, versus women at 3.54. \n",
    "\n",
    "Their exists a clear consensus with the top ranked film, 'The Empire Strikes Back' (ranking_5), with a rating of 2.56."
   ]
  },
  {
   "cell_type": "code",
   "execution_count": 47,
   "metadata": {
    "collapsed": false
   },
   "outputs": [
    {
     "data": {
      "text/plain": [
       "seen_1    54.280510\n",
       "seen_2    43.169399\n",
       "seen_3    40.437158\n",
       "seen_4    46.448087\n",
       "seen_5    64.298725\n",
       "seen_6    61.566485\n",
       "dtype: float64"
      ]
     },
     "execution_count": 47,
     "metadata": {},
     "output_type": "execute_result"
    }
   ],
   "source": [
    "females_movie_seen_percent = (star_wars_females[star_wars_females.columns[3:9]].sum() / len(star_wars_females)) * 100\n",
    "females_movie_seen_percent"
   ]
  },
  {
   "cell_type": "code",
   "execution_count": 48,
   "metadata": {
    "collapsed": false
   },
   "outputs": [
    {
     "data": {
      "image/png": "[encoded data removed]",
      "text/plain": [
       "<matplotlib.figure.Figure at 0x7f6c75e31c50>"
      ]
     },
     "metadata": {},
     "output_type": "display_data"
    }
   ],
   "source": [
    "ax = sns.barplot(x=females_movie_seen_percent.index, y=females_movie_seen_percent.values)\n",
    "ax.set_title('Females - Movie Viewership')\n",
    "plt.show()"
   ]
  },
  {
   "cell_type": "markdown",
   "metadata": {},
   "source": [
    "More women survey respondents have seen 'The Empire Strikes Back' than the other films in the series. The exact figure is 64%, or 351 women out of 549 female survey respondents.\n",
    "\n",
    "From the data we see that the male survey respondents are more likely to have seen any given Star Wars. For men, the percentage that have watched a given Star Wars film ranges from 64% to 79%. For females, the same percentage ranges from 40% to 64%. \n",
    "\n",
    "Along with a higher sample representation, males will have had a larger influence on the mean score for each movie.\n",
    "\n",
    "Naturally, greater analysis can be run on this data set. For example, we could further segment data based on Education and Location.\n",
    "\n",
    "## Conclusion\n",
    "I will conclude with my own bias that **The Empire Strikes Back** clearly is the best film out of the current Star Wars series."
   ]
  }
 ],
 "metadata": {
  "kernelspec": {
   "display_name": "Python 3",
   "language": "python",
   "name": "python3"
  },
  "language_info": {
   "codemirror_mode": {
    "name": "ipython",
    "version": 3
   },
   "file_extension": ".py",
   "mimetype": "text/x-python",
   "name": "python",
   "nbconvert_exporter": "python",
   "pygments_lexer": "ipython3",
   "version": "3.4.3"
  }
 },
 "nbformat": 4,
 "nbformat_minor": 0
}
